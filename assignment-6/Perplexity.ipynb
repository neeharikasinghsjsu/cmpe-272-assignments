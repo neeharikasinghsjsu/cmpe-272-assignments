{
  "nbformat": 4,
  "nbformat_minor": 0,
  "metadata": {
    "colab": {
      "provenance": []
    },
    "kernelspec": {
      "name": "python3",
      "display_name": "Python 3"
    },
    "language_info": {
      "name": "python"
    }
  },
  "cells": [
    {
      "cell_type": "markdown",
      "source": [
        "# **Comparison of the realism of the generated and real tweets using perplexity**"
      ],
      "metadata": {
        "id": "pO2ZG2J7CV6n"
      }
    },
    {
      "cell_type": "code",
      "source": [
        "import pandas as pd\n",
        "dataset_url = 'https://raw.githubusercontent.com/neeharikasinghsjsu/cmpe272-assignments/main/assignment-6/dataset/generated-moview-reviews-perplexity.csv'\n",
        "generated_data = pd.read_csv(dataset_url)"
      ],
      "metadata": {
        "id": "tl1n4R-E7obj"
      },
      "execution_count": 14,
      "outputs": []
    },
    {
      "cell_type": "code",
      "source": [
        "real_dataset_url = 'https://raw.githubusercontent.com/neeharikasinghsjsu/cmpe272-assignments/main/assignment-6/dataset/real-moview-reviews-perplexity.csv'\n",
        "real_data = pd.read_csv(real_dataset_url)"
      ],
      "metadata": {
        "id": "JGiUoqi38QZk"
      },
      "execution_count": 15,
      "outputs": []
    },
    {
      "cell_type": "code",
      "source": [
        "from transformers import GPT2LMHeadModel, GPT2Tokenizer\n",
        "import torch\n",
        "\n",
        "def calculate_perplexity(text, model, tokenizer):\n",
        "    tokenize_input = tokenizer.encode(text, return_tensors=\"pt\")\n",
        "    loss = model(tokenize_input, labels=tokenize_input).loss\n",
        "    return torch.exp(loss).item()"
      ],
      "metadata": {
        "id": "8SG9VQNH8ki3"
      },
      "execution_count": 16,
      "outputs": []
    },
    {
      "cell_type": "code",
      "source": [
        "model = GPT2LMHeadModel.from_pretrained('gpt2')\n",
        "tokenizer = GPT2Tokenizer.from_pretrained('gpt2')"
      ],
      "metadata": {
        "id": "gIlLNTyd8svb"
      },
      "execution_count": 17,
      "outputs": []
    },
    {
      "cell_type": "code",
      "source": [
        "perplexity_real = [calculate_perplexity(real_review, model, tokenizer) for real_review in real_data]\n",
        "perplexity_generated = [calculate_perplexity(gen_review, model, tokenizer) for gen_review in generated_data]\n"
      ],
      "metadata": {
        "id": "p454Fbwz-977"
      },
      "execution_count": 18,
      "outputs": []
    },
    {
      "cell_type": "code",
      "source": [
        "print(f'Perplexity of Real Tweets: {perplexity_real}')\n",
        "print(f'Perplexity of Generated Tweets: {perplexity_generated}')"
      ],
      "metadata": {
        "colab": {
          "base_uri": "https://localhost:8080/"
        },
        "id": "R4E-r-YHAopV",
        "outputId": "0a936773-00b3-4974-8b31-0530ccb7ed4f"
      },
      "execution_count": 21,
      "outputs": [
        {
          "output_type": "stream",
          "name": "stdout",
          "text": [
            "Perplexity of Real Tweets: [29.03848648071289]\n",
            "Perplexity of Generated Tweets: [29.03848648071289]\n"
          ]
        }
      ]
    },
    {
      "cell_type": "code",
      "source": [
        "avg_perplexity_real = sum(perplexity_real) / len(perplexity_real)\n",
        "avg_perplexity_generated = sum(perplexity_generated) / len(perplexity_generated)"
      ],
      "metadata": {
        "id": "LmMK6OJa_XkB"
      },
      "execution_count": 19,
      "outputs": []
    },
    {
      "cell_type": "code",
      "source": [
        "print(f'Average Perplexity of Real Tweets: {avg_perplexity_real}')\n",
        "print(f'Average Perplexity of Generated Tweets: {avg_perplexity_generated}')"
      ],
      "metadata": {
        "colab": {
          "base_uri": "https://localhost:8080/"
        },
        "id": "3-YdhWWD_eAE",
        "outputId": "9c64ca78-65a3-43de-c3c0-9353fac3e375"
      },
      "execution_count": 20,
      "outputs": [
        {
          "output_type": "stream",
          "name": "stdout",
          "text": [
            "Average Perplexity of Real Tweets: 29.03848648071289\n",
            "Average Perplexity of Generated Tweets: 29.03848648071289\n"
          ]
        }
      ]
    }
  ]
}